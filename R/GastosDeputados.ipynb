{
 "cells": [
  {
   "cell_type": "markdown",
   "metadata": {},
   "source": [
    "## Gastos Deputados Federais no ano de 2019"
   ]
  },
  {
   "cell_type": "markdown",
   "metadata": {},
   "source": [
    "#### Treinando e aprendendo analisar dados em Python"
   ]
  },
  {
   "cell_type": "markdown",
   "metadata": {},
   "source": [
    "#### Arrumando e agregando os dados"
   ]
  },
  {
   "cell_type": "code",
   "execution_count": 1,
   "metadata": {},
   "outputs": [],
   "source": [
    "import pandas as pd\n",
    "import matplotlib.pyplot as plt"
   ]
  },
  {
   "cell_type": "code",
   "execution_count": 2,
   "metadata": {},
   "outputs": [],
   "source": [
    "dados = pd.read_csv(\"C:/Users/mcaio/Desktop/Nova pasta/Ano-2019.csv\", delimiter= \";\")"
   ]
  },
  {
   "cell_type": "code",
   "execution_count": null,
   "metadata": {},
   "outputs": [],
   "source": [
    "dados.tail(20)"
   ]
  },
  {
   "cell_type": "code",
   "execution_count": null,
   "metadata": {},
   "outputs": [],
   "source": [
    "dados.shape"
   ]
  },
  {
   "cell_type": "code",
   "execution_count": 3,
   "metadata": {},
   "outputs": [],
   "source": [
    "dados = dados.rename(columns = {'X.U.FEFF.txNomeParlamentar': 'NomeParlamentar', 'txtFornecedor': 'fornecedor', 'txtDescricao':'Descricao', 'vlrLiquido':'ValorLiquido','vlrGlosa':'ValorGlosa','vlrDocumento':'ValorDocumento', 'datEmissao':'DataEmissao'})"
   ]
  },
  {
   "cell_type": "code",
   "execution_count": null,
   "metadata": {},
   "outputs": [],
   "source": [
    "#teste = dados.loc[dados[\"ValorLiquido\"] < 118.00, \"txNomeParlamentar\"]"
   ]
  },
  {
   "cell_type": "code",
   "execution_count": 4,
   "metadata": {},
   "outputs": [],
   "source": [
    "dados = dados[dados['cpf'].notna()]"
   ]
  },
  {
   "cell_type": "markdown",
   "metadata": {},
   "source": [
    "### Gastos por Partido"
   ]
  },
  {
   "cell_type": "code",
   "execution_count": 43,
   "metadata": {},
   "outputs": [],
   "source": [
    "gastos_partido = dados[dados[\"numMes\"] > 1]\n",
    "\n",
    "gastos_partido = gastos_partido.groupby(['sgPartido'])['ValorLiquido'].sum().reset_index()\n"
   ]
  },
  {
   "cell_type": "code",
   "execution_count": 44,
   "metadata": {},
   "outputs": [],
   "source": [
    "gastos_partido[\"ValorLiquido\"] = gastos_partido[\"ValorLiquido\"].div(1e6).round(3) "
   ]
  },
  {
   "cell_type": "code",
   "execution_count": 45,
   "metadata": {
    "collapsed": true
   },
   "outputs": [
    {
     "data": {
      "text/html": [
       "<div>\n",
       "<style scoped>\n",
       "    .dataframe tbody tr th:only-of-type {\n",
       "        vertical-align: middle;\n",
       "    }\n",
       "\n",
       "    .dataframe tbody tr th {\n",
       "        vertical-align: top;\n",
       "    }\n",
       "\n",
       "    .dataframe thead th {\n",
       "        text-align: right;\n",
       "    }\n",
       "</style>\n",
       "<table border=\"1\" class=\"dataframe\">\n",
       "  <thead>\n",
       "    <tr style=\"text-align: right;\">\n",
       "      <th></th>\n",
       "      <th>sgPartido</th>\n",
       "      <th>ValorLiquido</th>\n",
       "    </tr>\n",
       "  </thead>\n",
       "  <tbody>\n",
       "    <tr>\n",
       "      <th>18</th>\n",
       "      <td>PT</td>\n",
       "      <td>22.500</td>\n",
       "    </tr>\n",
       "    <tr>\n",
       "      <th>16</th>\n",
       "      <td>PSL</td>\n",
       "      <td>16.979</td>\n",
       "    </tr>\n",
       "    <tr>\n",
       "      <th>10</th>\n",
       "      <td>PP</td>\n",
       "      <td>15.813</td>\n",
       "    </tr>\n",
       "    <tr>\n",
       "      <th>8</th>\n",
       "      <td>PL</td>\n",
       "      <td>15.228</td>\n",
       "    </tr>\n",
       "    <tr>\n",
       "      <th>14</th>\n",
       "      <td>PSD</td>\n",
       "      <td>13.552</td>\n",
       "    </tr>\n",
       "    <tr>\n",
       "      <th>3</th>\n",
       "      <td>MDB</td>\n",
       "      <td>13.449</td>\n",
       "    </tr>\n",
       "    <tr>\n",
       "      <th>22</th>\n",
       "      <td>REPUBLICANOS</td>\n",
       "      <td>12.661</td>\n",
       "    </tr>\n",
       "    <tr>\n",
       "      <th>15</th>\n",
       "      <td>PSDB</td>\n",
       "      <td>11.844</td>\n",
       "    </tr>\n",
       "    <tr>\n",
       "      <th>7</th>\n",
       "      <td>PDT</td>\n",
       "      <td>11.273</td>\n",
       "    </tr>\n",
       "    <tr>\n",
       "      <th>2</th>\n",
       "      <td>DEM</td>\n",
       "      <td>10.428</td>\n",
       "    </tr>\n",
       "    <tr>\n",
       "      <th>12</th>\n",
       "      <td>PSB</td>\n",
       "      <td>10.407</td>\n",
       "    </tr>\n",
       "    <tr>\n",
       "      <th>23</th>\n",
       "      <td>SOLIDARIEDADE</td>\n",
       "      <td>5.716</td>\n",
       "    </tr>\n",
       "    <tr>\n",
       "      <th>19</th>\n",
       "      <td>PTB</td>\n",
       "      <td>4.658</td>\n",
       "    </tr>\n",
       "    <tr>\n",
       "      <th>11</th>\n",
       "      <td>PROS</td>\n",
       "      <td>4.112</td>\n",
       "    </tr>\n",
       "    <tr>\n",
       "      <th>17</th>\n",
       "      <td>PSOL</td>\n",
       "      <td>3.835</td>\n",
       "    </tr>\n",
       "    <tr>\n",
       "      <th>9</th>\n",
       "      <td>PODE</td>\n",
       "      <td>3.462</td>\n",
       "    </tr>\n",
       "    <tr>\n",
       "      <th>6</th>\n",
       "      <td>PCdoB</td>\n",
       "      <td>3.338</td>\n",
       "    </tr>\n",
       "    <tr>\n",
       "      <th>13</th>\n",
       "      <td>PSC</td>\n",
       "      <td>3.150</td>\n",
       "    </tr>\n",
       "    <tr>\n",
       "      <th>0</th>\n",
       "      <td>AVANTE</td>\n",
       "      <td>2.765</td>\n",
       "    </tr>\n",
       "    <tr>\n",
       "      <th>1</th>\n",
       "      <td>CIDADANIA</td>\n",
       "      <td>2.714</td>\n",
       "    </tr>\n",
       "    <tr>\n",
       "      <th>5</th>\n",
       "      <td>PATRIOTA</td>\n",
       "      <td>2.329</td>\n",
       "    </tr>\n",
       "    <tr>\n",
       "      <th>20</th>\n",
       "      <td>PV</td>\n",
       "      <td>1.102</td>\n",
       "    </tr>\n",
       "    <tr>\n",
       "      <th>4</th>\n",
       "      <td>NOVO</td>\n",
       "      <td>0.822</td>\n",
       "    </tr>\n",
       "    <tr>\n",
       "      <th>21</th>\n",
       "      <td>REDE</td>\n",
       "      <td>0.324</td>\n",
       "    </tr>\n",
       "  </tbody>\n",
       "</table>\n",
       "</div>"
      ],
      "text/plain": [
       "        sgPartido  ValorLiquido\n",
       "18             PT        22.500\n",
       "16            PSL        16.979\n",
       "10             PP        15.813\n",
       "8              PL        15.228\n",
       "14            PSD        13.552\n",
       "3             MDB        13.449\n",
       "22   REPUBLICANOS        12.661\n",
       "15           PSDB        11.844\n",
       "7             PDT        11.273\n",
       "2             DEM        10.428\n",
       "12            PSB        10.407\n",
       "23  SOLIDARIEDADE         5.716\n",
       "19            PTB         4.658\n",
       "11           PROS         4.112\n",
       "17           PSOL         3.835\n",
       "9            PODE         3.462\n",
       "6           PCdoB         3.338\n",
       "13            PSC         3.150\n",
       "0          AVANTE         2.765\n",
       "1       CIDADANIA         2.714\n",
       "5        PATRIOTA         2.329\n",
       "20             PV         1.102\n",
       "4            NOVO         0.822\n",
       "21           REDE         0.324"
      ]
     },
     "execution_count": 45,
     "metadata": {},
     "output_type": "execute_result"
    }
   ],
   "source": [
    "gastos_partido.sort_values(by = \"ValorLiquido\", ascending = False)"
   ]
  },
  {
   "cell_type": "code",
   "execution_count": 46,
   "metadata": {},
   "outputs": [],
   "source": [
    "gastos_partido[\"percentual\"] = (gastos_partido[\"ValorLiquido\"] / gastos_partido[\"ValorLiquido\"].sum()*100).round(2)"
   ]
  },
  {
   "cell_type": "code",
   "execution_count": 47,
   "metadata": {},
   "outputs": [],
   "source": [
    "gastos_partido = gastos_partido.sort_values(by = \"percentual\", ascending = False)"
   ]
  },
  {
   "cell_type": "code",
   "execution_count": 48,
   "metadata": {
    "collapsed": true
   },
   "outputs": [
    {
     "data": {
      "text/html": [
       "<div>\n",
       "<style scoped>\n",
       "    .dataframe tbody tr th:only-of-type {\n",
       "        vertical-align: middle;\n",
       "    }\n",
       "\n",
       "    .dataframe tbody tr th {\n",
       "        vertical-align: top;\n",
       "    }\n",
       "\n",
       "    .dataframe thead th {\n",
       "        text-align: right;\n",
       "    }\n",
       "</style>\n",
       "<table border=\"1\" class=\"dataframe\">\n",
       "  <thead>\n",
       "    <tr style=\"text-align: right;\">\n",
       "      <th></th>\n",
       "      <th>sgPartido</th>\n",
       "      <th>ValorLiquido</th>\n",
       "      <th>percentual</th>\n",
       "    </tr>\n",
       "  </thead>\n",
       "  <tbody>\n",
       "    <tr>\n",
       "      <th>18</th>\n",
       "      <td>PT</td>\n",
       "      <td>22.500</td>\n",
       "      <td>11.69</td>\n",
       "    </tr>\n",
       "    <tr>\n",
       "      <th>16</th>\n",
       "      <td>PSL</td>\n",
       "      <td>16.979</td>\n",
       "      <td>8.82</td>\n",
       "    </tr>\n",
       "    <tr>\n",
       "      <th>10</th>\n",
       "      <td>PP</td>\n",
       "      <td>15.813</td>\n",
       "      <td>8.22</td>\n",
       "    </tr>\n",
       "    <tr>\n",
       "      <th>8</th>\n",
       "      <td>PL</td>\n",
       "      <td>15.228</td>\n",
       "      <td>7.91</td>\n",
       "    </tr>\n",
       "    <tr>\n",
       "      <th>14</th>\n",
       "      <td>PSD</td>\n",
       "      <td>13.552</td>\n",
       "      <td>7.04</td>\n",
       "    </tr>\n",
       "    <tr>\n",
       "      <th>3</th>\n",
       "      <td>MDB</td>\n",
       "      <td>13.449</td>\n",
       "      <td>6.99</td>\n",
       "    </tr>\n",
       "    <tr>\n",
       "      <th>22</th>\n",
       "      <td>REPUBLICANOS</td>\n",
       "      <td>12.661</td>\n",
       "      <td>6.58</td>\n",
       "    </tr>\n",
       "    <tr>\n",
       "      <th>15</th>\n",
       "      <td>PSDB</td>\n",
       "      <td>11.844</td>\n",
       "      <td>6.15</td>\n",
       "    </tr>\n",
       "    <tr>\n",
       "      <th>7</th>\n",
       "      <td>PDT</td>\n",
       "      <td>11.273</td>\n",
       "      <td>5.86</td>\n",
       "    </tr>\n",
       "    <tr>\n",
       "      <th>2</th>\n",
       "      <td>DEM</td>\n",
       "      <td>10.428</td>\n",
       "      <td>5.42</td>\n",
       "    </tr>\n",
       "    <tr>\n",
       "      <th>12</th>\n",
       "      <td>PSB</td>\n",
       "      <td>10.407</td>\n",
       "      <td>5.41</td>\n",
       "    </tr>\n",
       "    <tr>\n",
       "      <th>23</th>\n",
       "      <td>SOLIDARIEDADE</td>\n",
       "      <td>5.716</td>\n",
       "      <td>2.97</td>\n",
       "    </tr>\n",
       "    <tr>\n",
       "      <th>19</th>\n",
       "      <td>PTB</td>\n",
       "      <td>4.658</td>\n",
       "      <td>2.42</td>\n",
       "    </tr>\n",
       "    <tr>\n",
       "      <th>11</th>\n",
       "      <td>PROS</td>\n",
       "      <td>4.112</td>\n",
       "      <td>2.14</td>\n",
       "    </tr>\n",
       "    <tr>\n",
       "      <th>17</th>\n",
       "      <td>PSOL</td>\n",
       "      <td>3.835</td>\n",
       "      <td>1.99</td>\n",
       "    </tr>\n",
       "    <tr>\n",
       "      <th>9</th>\n",
       "      <td>PODE</td>\n",
       "      <td>3.462</td>\n",
       "      <td>1.80</td>\n",
       "    </tr>\n",
       "    <tr>\n",
       "      <th>6</th>\n",
       "      <td>PCdoB</td>\n",
       "      <td>3.338</td>\n",
       "      <td>1.73</td>\n",
       "    </tr>\n",
       "    <tr>\n",
       "      <th>13</th>\n",
       "      <td>PSC</td>\n",
       "      <td>3.150</td>\n",
       "      <td>1.64</td>\n",
       "    </tr>\n",
       "    <tr>\n",
       "      <th>0</th>\n",
       "      <td>AVANTE</td>\n",
       "      <td>2.765</td>\n",
       "      <td>1.44</td>\n",
       "    </tr>\n",
       "    <tr>\n",
       "      <th>1</th>\n",
       "      <td>CIDADANIA</td>\n",
       "      <td>2.714</td>\n",
       "      <td>1.41</td>\n",
       "    </tr>\n",
       "    <tr>\n",
       "      <th>5</th>\n",
       "      <td>PATRIOTA</td>\n",
       "      <td>2.329</td>\n",
       "      <td>1.21</td>\n",
       "    </tr>\n",
       "    <tr>\n",
       "      <th>20</th>\n",
       "      <td>PV</td>\n",
       "      <td>1.102</td>\n",
       "      <td>0.57</td>\n",
       "    </tr>\n",
       "    <tr>\n",
       "      <th>4</th>\n",
       "      <td>NOVO</td>\n",
       "      <td>0.822</td>\n",
       "      <td>0.43</td>\n",
       "    </tr>\n",
       "    <tr>\n",
       "      <th>21</th>\n",
       "      <td>REDE</td>\n",
       "      <td>0.324</td>\n",
       "      <td>0.17</td>\n",
       "    </tr>\n",
       "  </tbody>\n",
       "</table>\n",
       "</div>"
      ],
      "text/plain": [
       "        sgPartido  ValorLiquido  percentual\n",
       "18             PT        22.500       11.69\n",
       "16            PSL        16.979        8.82\n",
       "10             PP        15.813        8.22\n",
       "8              PL        15.228        7.91\n",
       "14            PSD        13.552        7.04\n",
       "3             MDB        13.449        6.99\n",
       "22   REPUBLICANOS        12.661        6.58\n",
       "15           PSDB        11.844        6.15\n",
       "7             PDT        11.273        5.86\n",
       "2             DEM        10.428        5.42\n",
       "12            PSB        10.407        5.41\n",
       "23  SOLIDARIEDADE         5.716        2.97\n",
       "19            PTB         4.658        2.42\n",
       "11           PROS         4.112        2.14\n",
       "17           PSOL         3.835        1.99\n",
       "9            PODE         3.462        1.80\n",
       "6           PCdoB         3.338        1.73\n",
       "13            PSC         3.150        1.64\n",
       "0          AVANTE         2.765        1.44\n",
       "1       CIDADANIA         2.714        1.41\n",
       "5        PATRIOTA         2.329        1.21\n",
       "20             PV         1.102        0.57\n",
       "4            NOVO         0.822        0.43\n",
       "21           REDE         0.324        0.17"
      ]
     },
     "execution_count": 48,
     "metadata": {},
     "output_type": "execute_result"
    }
   ],
   "source": [
    "gastos_partido"
   ]
  },
  {
   "cell_type": "markdown",
   "metadata": {},
   "source": [
    "### Gastos por Atividades"
   ]
  },
  {
   "cell_type": "code",
   "execution_count": 49,
   "metadata": {},
   "outputs": [],
   "source": [
    "gasto_atividades = dados[dados[\"numMes\"] > 1] \n",
    "\n",
    "gasto_atividades = gasto_atividades[gasto_atividades[\"Descricao\"] != \"PASSAGEM AÉREA - SIGEPA\"]\n",
    "\n",
    "gasto_atividades = gasto_atividades[gasto_atividades[\"cpf\"].notna()]"
   ]
  },
  {
   "cell_type": "code",
   "execution_count": 50,
   "metadata": {},
   "outputs": [],
   "source": [
    "gasto_atividades = gasto_atividades.groupby(['Descricao'])['ValorLiquido'].sum().reset_index()"
   ]
  },
  {
   "cell_type": "code",
   "execution_count": 52,
   "metadata": {},
   "outputs": [],
   "source": [
    "gasto_atividades[\"ValorLiquido\"] = gasto_atividades[\"ValorLiquido\"].div(1e6).round(3)"
   ]
  },
  {
   "cell_type": "code",
   "execution_count": 54,
   "metadata": {},
   "outputs": [],
   "source": [
    "gasto_atividades = gasto_atividades.sort_values(by = \"ValorLiquido\", ascending = False)"
   ]
  },
  {
   "cell_type": "code",
   "execution_count": 59,
   "metadata": {},
   "outputs": [],
   "source": [
    "gasto_atividades[\"percentual\"] = (gasto_atividades[\"ValorLiquido\"] / gasto_atividades[\"ValorLiquido\"].sum()*100).round(3)"
   ]
  },
  {
   "cell_type": "code",
   "execution_count": 60,
   "metadata": {
    "collapsed": true
   },
   "outputs": [
    {
     "data": {
      "text/html": [
       "<div>\n",
       "<style scoped>\n",
       "    .dataframe tbody tr th:only-of-type {\n",
       "        vertical-align: middle;\n",
       "    }\n",
       "\n",
       "    .dataframe tbody tr th {\n",
       "        vertical-align: top;\n",
       "    }\n",
       "\n",
       "    .dataframe thead th {\n",
       "        text-align: right;\n",
       "    }\n",
       "</style>\n",
       "<table border=\"1\" class=\"dataframe\">\n",
       "  <thead>\n",
       "    <tr style=\"text-align: right;\">\n",
       "      <th></th>\n",
       "      <th>Descricao</th>\n",
       "      <th>ValorLiquido</th>\n",
       "      <th>percentual</th>\n",
       "    </tr>\n",
       "  </thead>\n",
       "  <tbody>\n",
       "    <tr>\n",
       "      <th>12</th>\n",
       "      <td>PASSAGEM AÉREA - RPA</td>\n",
       "      <td>51.500</td>\n",
       "      <td>26.752</td>\n",
       "    </tr>\n",
       "    <tr>\n",
       "      <th>3</th>\n",
       "      <td>DIVULGAÇÃO DA ATIVIDADE PARLAMENTAR.</td>\n",
       "      <td>44.223</td>\n",
       "      <td>22.972</td>\n",
       "    </tr>\n",
       "    <tr>\n",
       "      <th>8</th>\n",
       "      <td>LOCAÇÃO OU FRETAMENTO DE VEÍCULOS AUTOMOTORES</td>\n",
       "      <td>24.729</td>\n",
       "      <td>12.846</td>\n",
       "    </tr>\n",
       "    <tr>\n",
       "      <th>9</th>\n",
       "      <td>MANUTENÇÃO DE ESCRITÓRIO DE APOIO À ATIVIDADE ...</td>\n",
       "      <td>21.720</td>\n",
       "      <td>11.283</td>\n",
       "    </tr>\n",
       "    <tr>\n",
       "      <th>2</th>\n",
       "      <td>CONSULTORIAS, PESQUISAS E TRABALHOS TÉCNICOS.</td>\n",
       "      <td>19.036</td>\n",
       "      <td>9.889</td>\n",
       "    </tr>\n",
       "    <tr>\n",
       "      <th>1</th>\n",
       "      <td>COMBUSTÍVEIS E LUBRIFICANTES.</td>\n",
       "      <td>15.387</td>\n",
       "      <td>7.993</td>\n",
       "    </tr>\n",
       "    <tr>\n",
       "      <th>17</th>\n",
       "      <td>TELEFONIA</td>\n",
       "      <td>4.426</td>\n",
       "      <td>2.299</td>\n",
       "    </tr>\n",
       "    <tr>\n",
       "      <th>11</th>\n",
       "      <td>PASSAGEM AÉREA - REEMBOLSO</td>\n",
       "      <td>3.461</td>\n",
       "      <td>1.798</td>\n",
       "    </tr>\n",
       "    <tr>\n",
       "      <th>16</th>\n",
       "      <td>SERVIÇOS POSTAIS</td>\n",
       "      <td>1.708</td>\n",
       "      <td>0.887</td>\n",
       "    </tr>\n",
       "    <tr>\n",
       "      <th>5</th>\n",
       "      <td>HOSPEDAGEM ,EXCETO DO PARLAMENTAR NO DISTRITO ...</td>\n",
       "      <td>1.685</td>\n",
       "      <td>0.875</td>\n",
       "    </tr>\n",
       "    <tr>\n",
       "      <th>6</th>\n",
       "      <td>LOCAÇÃO OU FRETAMENTO DE AERONAVES</td>\n",
       "      <td>1.328</td>\n",
       "      <td>0.690</td>\n",
       "    </tr>\n",
       "    <tr>\n",
       "      <th>14</th>\n",
       "      <td>SERVIÇO DE SEGURANÇA PRESTADO POR EMPRESA ESPE...</td>\n",
       "      <td>0.993</td>\n",
       "      <td>0.516</td>\n",
       "    </tr>\n",
       "    <tr>\n",
       "      <th>15</th>\n",
       "      <td>SERVIÇO DE TÁXI, PEDÁGIO E ESTACIONAMENTO</td>\n",
       "      <td>0.886</td>\n",
       "      <td>0.460</td>\n",
       "    </tr>\n",
       "    <tr>\n",
       "      <th>4</th>\n",
       "      <td>FORNECIMENTO DE ALIMENTAÇÃO DO PARLAMENTAR</td>\n",
       "      <td>0.826</td>\n",
       "      <td>0.429</td>\n",
       "    </tr>\n",
       "    <tr>\n",
       "      <th>0</th>\n",
       "      <td>ASSINATURA DE PUBLICAÇÕES</td>\n",
       "      <td>0.261</td>\n",
       "      <td>0.136</td>\n",
       "    </tr>\n",
       "    <tr>\n",
       "      <th>13</th>\n",
       "      <td>PASSAGENS TERRESTRES, MARÍTIMAS OU FLUVIAIS</td>\n",
       "      <td>0.130</td>\n",
       "      <td>0.068</td>\n",
       "    </tr>\n",
       "    <tr>\n",
       "      <th>10</th>\n",
       "      <td>PARTICIPAÇÃO EM CURSO, PALESTRA OU EVENTO SIMILAR</td>\n",
       "      <td>0.104</td>\n",
       "      <td>0.054</td>\n",
       "    </tr>\n",
       "    <tr>\n",
       "      <th>7</th>\n",
       "      <td>LOCAÇÃO OU FRETAMENTO DE EMBARCAÇÕES</td>\n",
       "      <td>0.103</td>\n",
       "      <td>0.054</td>\n",
       "    </tr>\n",
       "  </tbody>\n",
       "</table>\n",
       "</div>"
      ],
      "text/plain": [
       "                                            Descricao  ValorLiquido  \\\n",
       "12                               PASSAGEM AÉREA - RPA        51.500   \n",
       "3                DIVULGAÇÃO DA ATIVIDADE PARLAMENTAR.        44.223   \n",
       "8       LOCAÇÃO OU FRETAMENTO DE VEÍCULOS AUTOMOTORES        24.729   \n",
       "9   MANUTENÇÃO DE ESCRITÓRIO DE APOIO À ATIVIDADE ...        21.720   \n",
       "2       CONSULTORIAS, PESQUISAS E TRABALHOS TÉCNICOS.        19.036   \n",
       "1                       COMBUSTÍVEIS E LUBRIFICANTES.        15.387   \n",
       "17                                          TELEFONIA         4.426   \n",
       "11                         PASSAGEM AÉREA - REEMBOLSO         3.461   \n",
       "16                                   SERVIÇOS POSTAIS         1.708   \n",
       "5   HOSPEDAGEM ,EXCETO DO PARLAMENTAR NO DISTRITO ...         1.685   \n",
       "6                  LOCAÇÃO OU FRETAMENTO DE AERONAVES         1.328   \n",
       "14  SERVIÇO DE SEGURANÇA PRESTADO POR EMPRESA ESPE...         0.993   \n",
       "15          SERVIÇO DE TÁXI, PEDÁGIO E ESTACIONAMENTO         0.886   \n",
       "4          FORNECIMENTO DE ALIMENTAÇÃO DO PARLAMENTAR         0.826   \n",
       "0                           ASSINATURA DE PUBLICAÇÕES         0.261   \n",
       "13        PASSAGENS TERRESTRES, MARÍTIMAS OU FLUVIAIS         0.130   \n",
       "10  PARTICIPAÇÃO EM CURSO, PALESTRA OU EVENTO SIMILAR         0.104   \n",
       "7                LOCAÇÃO OU FRETAMENTO DE EMBARCAÇÕES         0.103   \n",
       "\n",
       "    percentual  \n",
       "12      26.752  \n",
       "3       22.972  \n",
       "8       12.846  \n",
       "9       11.283  \n",
       "2        9.889  \n",
       "1        7.993  \n",
       "17       2.299  \n",
       "11       1.798  \n",
       "16       0.887  \n",
       "5        0.875  \n",
       "6        0.690  \n",
       "14       0.516  \n",
       "15       0.460  \n",
       "4        0.429  \n",
       "0        0.136  \n",
       "13       0.068  \n",
       "10       0.054  \n",
       "7        0.054  "
      ]
     },
     "execution_count": 60,
     "metadata": {},
     "output_type": "execute_result"
    }
   ],
   "source": [
    "gasto_atividades"
   ]
  },
  {
   "cell_type": "markdown",
   "metadata": {},
   "source": [
    "### Gráfico"
   ]
  },
  {
   "cell_type": "code",
   "execution_count": 68,
   "metadata": {},
   "outputs": [],
   "source": [
    "partido = gastos_partido[\"sgPartido\"]\n",
    "\n",
    "gastos = gastos_partido[\"percentual\"]"
   ]
  },
  {
   "cell_type": "code",
   "execution_count": 69,
   "metadata": {},
   "outputs": [
    {
     "data": {
      "text/plain": [
       "[Text(0.5, 0, '(%) em milhões'),\n",
       " Text(0.5, 1.0, 'Percentual(%) de Gastos dos Partidos em 2019')]"
      ]
     },
     "execution_count": 69,
     "metadata": {},
     "output_type": "execute_result"
    },
    {
     "data": {
      "image/png": "[encoded data removed]",
      "text/plain": [
       "<Figure size 432x288 with 1 Axes>"
      ]
     },
     "metadata": {
      "needs_background": "light"
     },
     "output_type": "display_data"
    }
   ],
   "source": [
    "fig, ax = plt.subplots()\n",
    "ax.barh(partido, gastos)\n",
    "ax.invert_yaxis()\n",
    "ax.set(title = \"Percentual(%) de Gastos dos Partidos em 2019\", xlabel = \"(%) em milhões\")\n"
   ]
  },
  {
   "cell_type": "code",
   "execution_count": 62,
   "metadata": {},
   "outputs": [],
   "source": [
    "atividades = gasto_atividades[\"Descricao\"]\n",
    "\n",
    "montante = gasto_atividades[\"ValorLiquido\"]"
   ]
  },
  {
   "cell_type": "code",
   "execution_count": 67,
   "metadata": {},
   "outputs": [
    {
     "data": {
      "text/plain": [
       "[Text(0.5, 0, 'milhões de reais'),\n",
       " Text(0.5, 1.0, 'Gastos (em milhões) por atividades em 2019')]"
      ]
     },
     "execution_count": 67,
     "metadata": {},
     "output_type": "execute_result"
    },
    {
     "data": {
      "image/png": "[encoded data removed]",
      "text/plain": [
       "<Figure size 432x288 with 1 Axes>"
      ]
     },
     "metadata": {
      "needs_background": "light"
     },
     "output_type": "display_data"
    }
   ],
   "source": [
    "\n",
    "fig1, graf_atividades = plt.subplots()\n",
    "graf_atividades.barh(atividades, montante)\n",
    "graf_atividades.invert_yaxis()\n",
    "graf_atividades.set(title = \"Gastos (em milhões) por atividades em 2019\", xlabel = \"milhões de reais\")"
   ]
  }
 ],
 "metadata": {
  "kernelspec": {
   "display_name": "Python 3",
   "language": "python",
   "name": "python3"
  },
  "language_info": {
   "codemirror_mode": {
    "name": "ipython",
    "version": 3
   },
   "file_extension": ".py",
   "mimetype": "text/x-python",
   "name": "python",
   "nbconvert_exporter": "python",
   "pygments_lexer": "ipython3",
   "version": "3.7.6"
  }
 },
 "nbformat": 4,
 "nbformat_minor": 4
}

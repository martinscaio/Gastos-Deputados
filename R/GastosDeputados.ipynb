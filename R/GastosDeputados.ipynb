{
 "cells": [
  {
   "cell_type": "markdown",
   "metadata": {},
   "source": [
    "## Gastos Deputados Federais no ano de 2019"
   ]
  },
  {
   "cell_type": "markdown",
   "metadata": {},
   "source": [
    "#### Treinando e aprendendo analisar dados em Python"
   ]
  },
  {
   "cell_type": "markdown",
   "metadata": {},
   "source": [
    "#### Arrumando e agregando os dados"
   ]
  },
  {
   "cell_type": "code",
   "execution_count": 24,
   "metadata": {},
   "outputs": [],
   "source": [
    "import pandas as pd\n",
    "import matplotlib.pyplot as plt\n",
    "from matplotlib import collections as matcoll"
   ]
  },
  {
   "cell_type": "code",
   "execution_count": 2,
   "metadata": {},
   "outputs": [],
   "source": [
    "dados = pd.read_csv(\"C:/Users/mcaio/Desktop/Nova pasta/Ano-2019.csv\", delimiter= \";\")"
   ]
  },
  {
   "cell_type": "code",
   "execution_count": null,
   "metadata": {},
   "outputs": [],
   "source": [
    "dados.tail(20)"
   ]
  },
  {
   "cell_type": "code",
   "execution_count": null,
   "metadata": {},
   "outputs": [],
   "source": [
    "dados.shape"
   ]
  },
  {
   "cell_type": "code",
   "execution_count": 3,
   "metadata": {},
   "outputs": [],
   "source": [
    "dados = dados.rename(columns = {'X.U.FEFF.txNomeParlamentar': 'NomeParlamentar', 'txtFornecedor': 'fornecedor', 'txtDescricao':'Descricao', 'vlrLiquido':'ValorLiquido','vlrGlosa':'ValorGlosa','vlrDocumento':'ValorDocumento', 'datEmissao':'DataEmissao'})"
   ]
  },
  {
   "cell_type": "code",
   "execution_count": null,
   "metadata": {},
   "outputs": [],
   "source": [
    "#teste = dados.loc[dados[\"ValorLiquido\"] < 118.00, \"txNomeParlamentar\"]"
   ]
  },
  {
   "cell_type": "code",
   "execution_count": 4,
   "metadata": {},
   "outputs": [],
   "source": [
    "dados = dados[dados['cpf'].notna()]"
   ]
  },
  {
   "cell_type": "markdown",
   "metadata": {},
   "source": [
    "### Gastos por Partido"
   ]
  },
  {
   "cell_type": "code",
   "execution_count": null,
   "metadata": {},
   "outputs": [],
   "source": [
    "gastos_partido = dados[dados[\"numMes\"] > 1]\n",
    "\n",
    "gastos_partido = gastos_partido.groupby(['sgPartido'])['ValorLiquido'].sum().reset_index()\n"
   ]
  },
  {
   "cell_type": "code",
   "execution_count": null,
   "metadata": {},
   "outputs": [],
   "source": [
    "gastos_partido[\"ValorLiquido\"] = gastos_partido[\"ValorLiquido\"].div(1e6).round(3) "
   ]
  },
  {
   "cell_type": "code",
   "execution_count": null,
   "metadata": {},
   "outputs": [],
   "source": [
    "gastos_partido.sort_values(by = \"ValorLiquido\", ascending = False)"
   ]
  },
  {
   "cell_type": "code",
   "execution_count": null,
   "metadata": {},
   "outputs": [],
   "source": [
    "gastos_partido[\"percentual\"] = (gastos_partido[\"ValorLiquido\"] / gastos_partido[\"ValorLiquido\"].sum()*100).round(2)"
   ]
  },
  {
   "cell_type": "code",
   "execution_count": null,
   "metadata": {},
   "outputs": [],
   "source": [
    "gastos_partido = gastos_partido.sort_values(by = \"percentual\", ascending = False)"
   ]
  },
  {
   "cell_type": "code",
   "execution_count": null,
   "metadata": {},
   "outputs": [],
   "source": [
    "gastos_partido"
   ]
  },
  {
   "cell_type": "markdown",
   "metadata": {},
   "source": [
    "#### Gráfico"
   ]
  },
  {
   "cell_type": "code",
   "execution_count": null,
   "metadata": {},
   "outputs": [],
   "source": [
    "partido = gastos_partido[\"sgPartido\"]\n",
    "\n",
    "gastos = gastos_partido[\"percentual\"]"
   ]
  },
  {
   "cell_type": "code",
   "execution_count": null,
   "metadata": {},
   "outputs": [],
   "source": [
    "fig, ax = plt.subplots()\n",
    "ax.barh(partido, gastos)\n",
    "ax.invert_yaxis()\n",
    "ax.set(title = \"Percentual(%) de Gastos dos Partidos em 2019\", xlabel = \"(%) em milhões\")"
   ]
  },
  {
   "cell_type": "markdown",
   "metadata": {},
   "source": [
    "### Gastos por Atividades"
   ]
  },
  {
   "cell_type": "code",
   "execution_count": null,
   "metadata": {},
   "outputs": [],
   "source": [
    "gasto_atividades = dados[dados[\"numMes\"] > 1] \n",
    "\n",
    "gasto_atividades = gasto_atividades[gasto_atividades[\"Descricao\"] != \"PASSAGEM AÉREA - SIGEPA\"]\n",
    "\n",
    "gasto_atividades = gasto_atividades[gasto_atividades[\"cpf\"].notna()]"
   ]
  },
  {
   "cell_type": "code",
   "execution_count": null,
   "metadata": {},
   "outputs": [],
   "source": [
    "gasto_atividades = gasto_atividades.groupby(['Descricao'])['ValorLiquido'].sum().reset_index()"
   ]
  },
  {
   "cell_type": "code",
   "execution_count": null,
   "metadata": {},
   "outputs": [],
   "source": [
    "gasto_atividades[\"ValorLiquido\"] = gasto_atividades[\"ValorLiquido\"].div(1e6).round(3)"
   ]
  },
  {
   "cell_type": "code",
   "execution_count": null,
   "metadata": {},
   "outputs": [],
   "source": [
    "gasto_atividades = gasto_atividades.sort_values(by = \"ValorLiquido\", ascending = False)"
   ]
  },
  {
   "cell_type": "code",
   "execution_count": null,
   "metadata": {},
   "outputs": [],
   "source": [
    "gasto_atividades[\"percentual\"] = (gasto_atividades[\"ValorLiquido\"] / gasto_atividades[\"ValorLiquido\"].sum()*100).round(3)"
   ]
  },
  {
   "cell_type": "code",
   "execution_count": null,
   "metadata": {},
   "outputs": [],
   "source": [
    "gasto_atividades"
   ]
  },
  {
   "cell_type": "markdown",
   "metadata": {},
   "source": [
    "### Gráfico"
   ]
  },
  {
   "cell_type": "code",
   "execution_count": null,
   "metadata": {},
   "outputs": [],
   "source": [
    "atividades = gasto_atividades[\"Descricao\"]\n",
    "\n",
    "montante = gasto_atividades[\"ValorLiquido\"]"
   ]
  },
  {
   "cell_type": "code",
   "execution_count": null,
   "metadata": {},
   "outputs": [],
   "source": [
    "fig1, graf_atividades = plt.subplots()\n",
    "graf_atividades.barh(atividades, montante)\n",
    "graf_atividades.invert_yaxis()\n",
    "graf_atividades.set(title = \"Gastos (em milhões) por atividades em 2019\", xlabel = \"milhões de reais\")"
   ]
  },
  {
   "cell_type": "markdown",
   "metadata": {},
   "source": [
    "### Deputados que mais Gastaram em 2019"
   ]
  },
  {
   "cell_type": "code",
   "execution_count": 5,
   "metadata": {},
   "outputs": [],
   "source": [
    "dep_gasto = dados[dados[\"numMes\"] > 1]\n",
    "\n",
    "dep_gasto = dep_gasto.groupby(['txNomeParlamentar'])[\"ValorLiquido\"].sum().reset_index()\n",
    "\n",
    "dep_gasto[\"ValorLiquido\"] = dep_gasto[\"ValorLiquido\"].div(1e3).round(3)\n",
    "\n",
    "dep_gasto = dep_gasto.sort_values(by = \"ValorLiquido\", ascending = False)"
   ]
  },
  {
   "cell_type": "code",
   "execution_count": 7,
   "metadata": {},
   "outputs": [],
   "source": [
    "mais_gastaram = dep_gasto.head(10)"
   ]
  },
  {
   "cell_type": "markdown",
   "metadata": {},
   "source": [
    "#### Gráfico"
   ]
  },
  {
   "cell_type": "code",
   "execution_count": 10,
   "metadata": {},
   "outputs": [],
   "source": [
    "politico = mais_gastaram[\"txNomeParlamentar\"]\n",
    "\n",
    "gasto_politico = mais_gastaram[\"ValorLiquido\"]"
   ]
  },
  {
   "cell_type": "code",
   "execution_count": 12,
   "metadata": {},
   "outputs": [
    {
     "data": {
      "text/plain": [
       "[Text(0.5, 0, 'VALOR GASTO(MIL REAIS)'),\n",
       " Text(0.5, 1.0, 'OS 10 DEPUTADOS FEDERAIS QUE MAIS GASTARAM EM 2019')]"
      ]
     },
     "execution_count": 12,
     "metadata": {},
     "output_type": "execute_result"
    },
    {
     "data": {
      "image/png": "[encoded data removed]",
      "text/plain": [
       "<Figure size 432x288 with 1 Axes>"
      ]
     },
     "metadata": {
      "needs_background": "light"
     },
     "output_type": "display_data"
    }
   ],
   "source": [
    "img, graph = plt.subplots()\n",
    "\n",
    "graph.barh(politico, gasto_politico)\n",
    "graph.invert_yaxis()\n",
    "graph.set(title = \"OS 10 DEPUTADOS FEDERAIS QUE MAIS GASTARAM EM 2019\", xlabel = \"VALOR GASTO(MIL REAIS)\")"
   ]
  },
  {
   "cell_type": "markdown",
   "metadata": {},
   "source": [
    "### 10 deputados que menos gastaram"
   ]
  },
  {
   "cell_type": "code",
   "execution_count": 13,
   "metadata": {},
   "outputs": [],
   "source": [
    "menos_gastaram = dep_gasto.tail(10)"
   ]
  },
  {
   "cell_type": "markdown",
   "metadata": {},
   "source": [
    "### Gráfico"
   ]
  },
  {
   "cell_type": "code",
   "execution_count": 15,
   "metadata": {},
   "outputs": [],
   "source": [
    "politicos_menos = menos_gastaram[\"txNomeParlamentar\"]\n",
    "\n",
    "gastos_menos = menos_gastaram[\"ValorLiquido\"]"
   ]
  },
  {
   "cell_type": "code",
   "execution_count": 16,
   "metadata": {},
   "outputs": [
    {
     "data": {
      "text/plain": [
       "[Text(0.5, 0, 'VALOR GASTO(MIL REAIS)'),\n",
       " Text(0.5, 1.0, 'OS 10 DEPUTADOS FEDERAIS QUE MENOS GASTARAM EM 2019')]"
      ]
     },
     "execution_count": 16,
     "metadata": {},
     "output_type": "execute_result"
    },
    {
     "data": {
      "image/png": "[encoded data removed]",
      "text/plain": [
       "<Figure size 432x288 with 1 Axes>"
      ]
     },
     "metadata": {
      "needs_background": "light"
     },
     "output_type": "display_data"
    }
   ],
   "source": [
    "imagem, grafico = plt.subplots()\n",
    "\n",
    "grafico.barh(politicos_menos, gastos_menos)\n",
    "grafico.invert_yaxis()\n",
    "grafico.set(title = \"OS 10 DEPUTADOS FEDERAIS QUE MENOS GASTARAM EM 2019\", xlabel = \"VALOR GASTO(MIL REAIS)\")"
   ]
  },
  {
   "cell_type": "markdown",
   "metadata": {},
   "source": [
    "### Gastos por Estado"
   ]
  },
  {
   "cell_type": "code",
   "execution_count": 20,
   "metadata": {},
   "outputs": [],
   "source": [
    "gastos_estados = dados[dados[\"numMes\"] > 1]\n",
    "\n",
    "gastos_estados = gastos_estados.groupby([\"sgUF\"])[\"ValorLiquido\"].sum().reset_index()\n",
    "\n",
    "gastos_estados[\"ValorLiquido\"] = gastos_estados[\"ValorLiquido\"].div(1e6).round(3)\n",
    "\n",
    "gastos_estados = gastos_estados.sort_values(\"ValorLiquido\", ascending = False)"
   ]
  },
  {
   "cell_type": "code",
   "execution_count": 21,
   "metadata": {},
   "outputs": [
    {
     "data": {
      "text/html": [
       "<div>\n",
       "<style scoped>\n",
       "    .dataframe tbody tr th:only-of-type {\n",
       "        vertical-align: middle;\n",
       "    }\n",
       "\n",
       "    .dataframe tbody tr th {\n",
       "        vertical-align: top;\n",
       "    }\n",
       "\n",
       "    .dataframe thead th {\n",
       "        text-align: right;\n",
       "    }\n",
       "</style>\n",
       "<table border=\"1\" class=\"dataframe\">\n",
       "  <thead>\n",
       "    <tr style=\"text-align: right;\">\n",
       "      <th></th>\n",
       "      <th>sgUF</th>\n",
       "      <th>ValorLiquido</th>\n",
       "    </tr>\n",
       "  </thead>\n",
       "  <tbody>\n",
       "    <tr>\n",
       "      <th>25</th>\n",
       "      <td>SP</td>\n",
       "      <td>23.392</td>\n",
       "    </tr>\n",
       "    <tr>\n",
       "      <th>10</th>\n",
       "      <td>MG</td>\n",
       "      <td>18.053</td>\n",
       "    </tr>\n",
       "    <tr>\n",
       "      <th>18</th>\n",
       "      <td>RJ</td>\n",
       "      <td>16.345</td>\n",
       "    </tr>\n",
       "    <tr>\n",
       "      <th>4</th>\n",
       "      <td>BA</td>\n",
       "      <td>16.018</td>\n",
       "    </tr>\n",
       "    <tr>\n",
       "      <th>22</th>\n",
       "      <td>RS</td>\n",
       "      <td>11.454</td>\n",
       "    </tr>\n",
       "    <tr>\n",
       "      <th>17</th>\n",
       "      <td>PR</td>\n",
       "      <td>11.443</td>\n",
       "    </tr>\n",
       "    <tr>\n",
       "      <th>15</th>\n",
       "      <td>PE</td>\n",
       "      <td>10.019</td>\n",
       "    </tr>\n",
       "    <tr>\n",
       "      <th>5</th>\n",
       "      <td>CE</td>\n",
       "      <td>9.608</td>\n",
       "    </tr>\n",
       "    <tr>\n",
       "      <th>9</th>\n",
       "      <td>MA</td>\n",
       "      <td>7.490</td>\n",
       "    </tr>\n",
       "    <tr>\n",
       "      <th>13</th>\n",
       "      <td>PA</td>\n",
       "      <td>7.453</td>\n",
       "    </tr>\n",
       "    <tr>\n",
       "      <th>8</th>\n",
       "      <td>GO</td>\n",
       "      <td>5.500</td>\n",
       "    </tr>\n",
       "    <tr>\n",
       "      <th>14</th>\n",
       "      <td>PB</td>\n",
       "      <td>5.086</td>\n",
       "    </tr>\n",
       "    <tr>\n",
       "      <th>23</th>\n",
       "      <td>SC</td>\n",
       "      <td>4.975</td>\n",
       "    </tr>\n",
       "    <tr>\n",
       "      <th>16</th>\n",
       "      <td>PI</td>\n",
       "      <td>4.157</td>\n",
       "    </tr>\n",
       "    <tr>\n",
       "      <th>0</th>\n",
       "      <td>AC</td>\n",
       "      <td>3.894</td>\n",
       "    </tr>\n",
       "    <tr>\n",
       "      <th>3</th>\n",
       "      <td>AP</td>\n",
       "      <td>3.642</td>\n",
       "    </tr>\n",
       "    <tr>\n",
       "      <th>21</th>\n",
       "      <td>RR</td>\n",
       "      <td>3.637</td>\n",
       "    </tr>\n",
       "    <tr>\n",
       "      <th>2</th>\n",
       "      <td>AM</td>\n",
       "      <td>3.626</td>\n",
       "    </tr>\n",
       "    <tr>\n",
       "      <th>1</th>\n",
       "      <td>AL</td>\n",
       "      <td>3.593</td>\n",
       "    </tr>\n",
       "    <tr>\n",
       "      <th>24</th>\n",
       "      <td>SE</td>\n",
       "      <td>3.406</td>\n",
       "    </tr>\n",
       "    <tr>\n",
       "      <th>7</th>\n",
       "      <td>ES</td>\n",
       "      <td>3.245</td>\n",
       "    </tr>\n",
       "    <tr>\n",
       "      <th>19</th>\n",
       "      <td>RN</td>\n",
       "      <td>3.219</td>\n",
       "    </tr>\n",
       "    <tr>\n",
       "      <th>26</th>\n",
       "      <td>TO</td>\n",
       "      <td>3.159</td>\n",
       "    </tr>\n",
       "    <tr>\n",
       "      <th>12</th>\n",
       "      <td>MT</td>\n",
       "      <td>2.872</td>\n",
       "    </tr>\n",
       "    <tr>\n",
       "      <th>11</th>\n",
       "      <td>MS</td>\n",
       "      <td>2.794</td>\n",
       "    </tr>\n",
       "    <tr>\n",
       "      <th>20</th>\n",
       "      <td>RO</td>\n",
       "      <td>2.786</td>\n",
       "    </tr>\n",
       "    <tr>\n",
       "      <th>6</th>\n",
       "      <td>DF</td>\n",
       "      <td>1.593</td>\n",
       "    </tr>\n",
       "  </tbody>\n",
       "</table>\n",
       "</div>"
      ],
      "text/plain": [
       "   sgUF  ValorLiquido\n",
       "25   SP        23.392\n",
       "10   MG        18.053\n",
       "18   RJ        16.345\n",
       "4    BA        16.018\n",
       "22   RS        11.454\n",
       "17   PR        11.443\n",
       "15   PE        10.019\n",
       "5    CE         9.608\n",
       "9    MA         7.490\n",
       "13   PA         7.453\n",
       "8    GO         5.500\n",
       "14   PB         5.086\n",
       "23   SC         4.975\n",
       "16   PI         4.157\n",
       "0    AC         3.894\n",
       "3    AP         3.642\n",
       "21   RR         3.637\n",
       "2    AM         3.626\n",
       "1    AL         3.593\n",
       "24   SE         3.406\n",
       "7    ES         3.245\n",
       "19   RN         3.219\n",
       "26   TO         3.159\n",
       "12   MT         2.872\n",
       "11   MS         2.794\n",
       "20   RO         2.786\n",
       "6    DF         1.593"
      ]
     },
     "execution_count": 21,
     "metadata": {},
     "output_type": "execute_result"
    }
   ],
   "source": [
    "gastos_estados"
   ]
  },
  {
   "cell_type": "code",
   "execution_count": 22,
   "metadata": {},
   "outputs": [],
   "source": [
    "estados = gastos_estados[\"sgUF\"]\n",
    "\n",
    "din_estados = gastos_estados[\"ValorLiquido\"]\n"
   ]
  },
  {
   "cell_type": "code",
   "execution_count": 39,
   "metadata": {},
   "outputs": [
    {
     "data": {
      "image/png": "[encoded data removed]",
      "text/plain": [
       "<Figure size 432x288 with 1 Axes>"
      ]
     },
     "metadata": {
      "needs_background": "light"
     },
     "output_type": "display_data"
    }
   ],
   "source": [
    "imagem2, gra = plt.subplots()\n",
    "\n",
    "gra.scatter(din_estados, estados)\n",
    "gra.invert_yaxis()"
   ]
  }
 ],
 "metadata": {
  "kernelspec": {
   "display_name": "Python 3",
   "language": "python",
   "name": "python3"
  },
  "language_info": {
   "codemirror_mode": {
    "name": "ipython",
    "version": 3
   },
   "file_extension": ".py",
   "mimetype": "text/x-python",
   "name": "python",
   "nbconvert_exporter": "python",
   "pygments_lexer": "ipython3",
   "version": "3.7.6"
  }
 },
 "nbformat": 4,
 "nbformat_minor": 4
}
